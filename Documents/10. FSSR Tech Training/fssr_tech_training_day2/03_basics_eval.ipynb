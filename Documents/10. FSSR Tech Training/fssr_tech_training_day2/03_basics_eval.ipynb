{
 "cells": [
  {
   "cell_type": "markdown",
   "metadata": {},
   "source": [
    "# FSSR Technical Training: Evaluated Basics Exercises\n",
    "\n",
    "This notebook provides a set of **evaluated exercises** to support learning of the training material.\n",
    "\n",
    "Once it is filled in, save the code and outputs, and send to instructors."
   ]
  },
  {
   "cell_type": "markdown",
   "metadata": {},
   "source": [
    "## Assignments and operators"
   ]
  },
  {
   "cell_type": "markdown",
   "metadata": {},
   "source": [
    "### 1.\n",
    "\n",
    "Write a code that stores variables intermediately to compute the following:\n",
    "\n",
    "1. Assign the value `7 * 5` to a variable `a`.\n",
    "2. Assign the value `(a + 8) * 2` to a variable `b`.\n",
    "3. Assign the result of dividing `b` by `4` to a variable `c`.\n",
    "4. Finally, calculate `c**2 + a` and print the result."
   ]
  },
  {
   "cell_type": "code",
   "execution_count": 1,
   "metadata": {},
   "outputs": [
    {
     "name": "stdout",
     "output_type": "stream",
     "text": [
      "497.25\n"
     ]
    }
   ],
   "source": [
    "a = 7 * 5\n",
    "b = (a + 8) * 2\n",
    "c = b / 4\n",
    "\n",
    "result = (c ** 2) + a\n",
    "print(result)"
   ]
  },
  {
   "cell_type": "markdown",
   "metadata": {},
   "source": [
    "### 2.\n",
    "\n",
    "You are given two variables `x = 27` and `y = 4`.\n",
    "\n",
    "1. Use the floor division operator `//` to find how many times `y` fits into `x` and assign the result to a variable `quotient`.\n",
    "2. Use the modulo operator `%` to find the remainder when `x` is divided by `y` and assign it to a variable `remainder`.\n",
    "3. Finally, print both the `quotient` and `remainder`."
   ]
  },
  {
   "cell_type": "code",
   "execution_count": 2,
   "metadata": {},
   "outputs": [
    {
     "name": "stdout",
     "output_type": "stream",
     "text": [
      "6\n",
      "3\n"
     ]
    }
   ],
   "source": [
    "x = 27\n",
    "y = 4\n",
    "quotient = (x // y)\n",
    "remainder = (x % y)\n",
    "\n",
    "print(quotient)\n",
    "print(remainder)"
   ]
  },
  {
   "cell_type": "markdown",
   "metadata": {},
   "source": [
    "### 3.\n",
    "\n",
    "You are tasked with calculating the result of an investment growth model. The formula is:\n",
    "\n",
    "$$\n",
    "\\text{final amount} = \\text{initial amount} \\times (1 + \\text{interest rate})^{\\text{time}}\n",
    "$$\n",
    "\n",
    "1. Assign values for the initial amount `initial_amount = 1000`, the interest rate `interest_rate = 0.05`, and the time `time = 10`.\n",
    "2. Use the exponentiation operator to calculate the final amount and assign it to a variable `final_amount`.\n",
    "3. Print `final_amount`."
   ]
  },
  {
   "cell_type": "code",
   "execution_count": 3,
   "metadata": {},
   "outputs": [
    {
     "name": "stdout",
     "output_type": "stream",
     "text": [
      "1628.894626777442\n"
     ]
    }
   ],
   "source": [
    "initial_amount = 1000\n",
    "interest_rate = 0.05\n",
    "time = 10\n",
    "final_amount = initial_amount * (1 + interest_rate)**time\n",
    "print(final_amount)"
   ]
  },
  {
   "cell_type": "markdown",
   "metadata": {},
   "source": [
    "### 4.\n",
    "\n",
    "Why does this code not work?\n",
    "\n",
    "```python\n",
    "my_variable = 10\n",
    "my_varıable\n",
    "```"
   ]
  },
  {
   "cell_type": "markdown",
   "metadata": {},
   "source": [
    "because there is no print preceding 'my_variable'"
   ]
  },
  {
   "cell_type": "markdown",
   "metadata": {},
   "source": [
    "### 5. \n",
    "\n",
    "Point out 5 style issues in this code.\n",
    "\n",
    "\n",
    "```python\n",
    "import numpy as honeybunny\n",
    "import os, sys\n",
    "\n",
    "\n",
    "def CalculateTotalWITHFACTOR(numbers,factor):\n",
    "    averylongnameaboutsomethingtotallyirrelevant = factor*honeybunny.sum(numbers)\n",
    "    return averylongnameaboutsomethingtotallyirrelevant\n",
    "\n",
    "\n",
    "word = [1,2,3,4,                       5]\n",
    "result=CalculateTotal(word)\n",
    "```"
   ]
  },
  {
   "cell_type": "markdown",
   "metadata": {},
   "source": [
    "1. CalculateTotalWITHFACTOR should be lower case\n",
    "2. multiple imports in one line: import os, sys\n",
    "3. no spaces after commas: (numbers,factor)\n",
    "4. not enough spaces between: factor*honeybunny.sum(numbers)\n",
    "5. 'CalculateTotal' should be lower case, also it hasn't been denfined"
   ]
  },
  {
   "cell_type": "markdown",
   "metadata": {},
   "source": [
    "## Boolean Operators"
   ]
  },
  {
   "cell_type": "markdown",
   "metadata": {},
   "source": [
    "### 1. \n",
    "\n",
    "What will the following code print? Predict and check your result.\n",
    "\n",
    "```python\n",
    "x = 5\n",
    "y = 10\n",
    "z = 15\n",
    "\n",
    "result = x < y <= z and y != z\n",
    "print(result)\n",
    "```"
   ]
  },
  {
   "cell_type": "markdown",
   "metadata": {},
   "source": [
    "predcition  = true"
   ]
  },
  {
   "cell_type": "code",
   "execution_count": 4,
   "metadata": {},
   "outputs": [
    {
     "name": "stdout",
     "output_type": "stream",
     "text": [
      "True\n"
     ]
    }
   ],
   "source": [
    "x = 5\n",
    "y = 10\n",
    "z = 15\n",
    "\n",
    "result = x < y <= z and y != z\n",
    "print(result)"
   ]
  },
  {
   "cell_type": "markdown",
   "metadata": {},
   "source": [
    "### 2.\n",
    "\n",
    "What will the following code print? Try to reason through the logic and then test it.\n",
    "\n",
    "```python\n",
    "a = 20\n",
    "b = 15\n",
    "c = 10\n",
    "\n",
    "if not (a < b or b > c) and c == 10:\n",
    "    print(\"Condition 1 met\")\n",
    "else:\n",
    "    print(\"Condition 2 met\")\n",
    "\n",
    "if a == 20 and not (b == 15 or c == 5):\n",
    "    print(\"Condition 3 met\")\n",
    "else:\n",
    "    print(\"Condition 4 met\")\n",
    "```"
   ]
  },
  {
   "cell_type": "markdown",
   "metadata": {},
   "source": [
    "prediction: \n",
    "\n",
    "condition 2 met\n",
    "\n",
    "condition 4 met"
   ]
  },
  {
   "cell_type": "code",
   "execution_count": 5,
   "metadata": {},
   "outputs": [
    {
     "name": "stdout",
     "output_type": "stream",
     "text": [
      "Condition 2 met\n",
      "Condition 4 met\n"
     ]
    }
   ],
   "source": [
    "a = 20\n",
    "b = 15\n",
    "c = 10\n",
    "\n",
    "if not (a < b or b > c) and c == 10:\n",
    "    print(\"Condition 1 met\")\n",
    "else:\n",
    "    print(\"Condition 2 met\")\n",
    "\n",
    "if a == 20 and not (b == 15 or c == 5):\n",
    "    print(\"Condition 3 met\")\n",
    "else:\n",
    "    print(\"Condition 4 met\")"
   ]
  },
  {
   "cell_type": "markdown",
   "metadata": {},
   "source": [
    "### 3.\n",
    "\n",
    "Build two if-statements, both with a conditional `print()` statement. One of the if-statements should evaluate to `True` and the other to `False`, ie one should print and the other should not. "
   ]
  },
  {
   "cell_type": "code",
   "execution_count": 6,
   "metadata": {},
   "outputs": [
    {
     "name": "stdout",
     "output_type": "stream",
     "text": [
      "true\n",
      "false\n"
     ]
    }
   ],
   "source": [
    "location = 'mortimer'\n",
    "postal_code = 'RG1'\n",
    "if location == 'mortimer' and not postal_code == 'RG7':\n",
    "    print(\"true\")\n",
    "else:\n",
    "    print(\"false\")\n",
    "if location == 'reading' and postal_code == 'RG1':\n",
    "    print(\"true\")\n",
    "else:\n",
    "    print(\"false\")"
   ]
  },
  {
   "cell_type": "markdown",
   "metadata": {},
   "source": [
    "## The Terminal\n",
    "\n",
    "### 1.\n",
    "\n",
    "Let's say you are in a folder called \"my_project\", which has a subfolder called \"my_subfolder\". You run `cd ..` then `cd my_project/my_subfolder`, and then `cd ..`. Which folder is your terminal in?"
   ]
  },
  {
   "cell_type": "markdown",
   "metadata": {},
   "source": [
    "### 2. \n",
    "\n",
    "Using whatever means necessary, get the code below to run without error.\n",
    "\n",
    "```python\n",
    "import time\n",
    "from rich.progress import track\n",
    "\n",
    "for i in track(range(20), description=\"Processing...\"):\n",
    "    time.sleep(0.5)  # Simulate work being done\n",
    "```"
   ]
  },
  {
   "cell_type": "markdown",
   "metadata": {},
   "source": [
    "### 3.\n",
    "\n",
    "Look at the snippet from the command line below.\n",
    "\n",
    "What is the name of the Python environment the user is currently working with?\n",
    "What directory are they in?\n",
    "How would you list all of the packages in the environment using a command?\n",
    "\n",
    "\n",
    "```powershell\n",
    "(techtrain) PS C:\\Users\\326339\\Documents\\git_projects\\fssr-technical-training>\n",
    "```"
   ]
  }
 ],
 "metadata": {
  "kernelspec": {
   "display_name": "techtrain",
   "language": "python",
   "name": "python3"
  },
  "language_info": {
   "codemirror_mode": {
    "name": "ipython",
    "version": 3
   },
   "file_extension": ".py",
   "mimetype": "text/x-python",
   "name": "python",
   "nbconvert_exporter": "python",
   "pygments_lexer": "ipython3",
   "version": "3.12.4"
  }
 },
 "nbformat": 4,
 "nbformat_minor": 2
}
