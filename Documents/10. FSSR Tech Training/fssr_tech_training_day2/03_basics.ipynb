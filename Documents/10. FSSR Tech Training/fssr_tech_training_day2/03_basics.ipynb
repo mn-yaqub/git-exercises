{
 "cells": [
  {
   "cell_type": "markdown",
   "metadata": {},
   "source": [
    "# FSSR Technical Training: Basics Exercises\n",
    "\n",
    "This notebook provides a set of **practice exercises** to support learning of the training material."
   ]
  },
  {
   "cell_type": "markdown",
   "metadata": {},
   "source": [
    "## Assignments and operators"
   ]
  },
  {
   "cell_type": "markdown",
   "metadata": {},
   "source": [
    "### 1.\n",
    "\n",
    "Using code:\n",
    "\n",
    "- Divide 1 by 200, then multiply the result by 30.\n",
    "- Calculate the average of 59, 73, and 2 by summing them up and dividing by 3."
   ]
  },
  {
   "cell_type": "code",
   "execution_count": 7,
   "metadata": {},
   "outputs": [
    {
     "name": "stdout",
     "output_type": "stream",
     "text": [
      "0.15\n",
      "44.666666666666664\n"
     ]
    }
   ],
   "source": [
    "x = (1 / 200) * 30\n",
    "print(x)\n",
    "\n",
    "y = (59 + 73 + 2) / 3\n",
    "print(y)"
   ]
  },
  {
   "cell_type": "markdown",
   "metadata": {},
   "source": [
    "### 2.\n",
    "\n",
    "Create a variable `x` and assign it the value of 3 multiplied by 4. Then, print the value of `x` and use the `type()` function to check its type."
   ]
  },
  {
   "cell_type": "code",
   "execution_count": 9,
   "metadata": {},
   "outputs": [
    {
     "name": "stdout",
     "output_type": "stream",
     "text": [
      "12\n"
     ]
    },
    {
     "data": {
      "text/plain": [
       "int"
      ]
     },
     "execution_count": 9,
     "metadata": {},
     "output_type": "execute_result"
    }
   ],
   "source": [
    "x = 3 * 4\n",
    "print(x)\n",
    "type(x)"
   ]
  },
  {
   "cell_type": "markdown",
   "metadata": {},
   "source": [
    "### 3.\n",
    "\n",
    "Create a list called `primes` containing the first seven prime numbers: 1, 2, 3, 5, 7, 11, 13. Then, print the list and check its type."
   ]
  },
  {
   "cell_type": "code",
   "execution_count": 10,
   "metadata": {},
   "outputs": [
    {
     "name": "stdout",
     "output_type": "stream",
     "text": [
      "(1, 2, 3, 5, 7, 11, 13)\n"
     ]
    },
    {
     "data": {
      "text/plain": [
       "tuple"
      ]
     },
     "execution_count": 10,
     "metadata": {},
     "output_type": "execute_result"
    }
   ],
   "source": [
    "primes = (1, 2, 3, 5, 7, 11, 13)\n",
    "print(primes)\n",
    "type(primes)"
   ]
  },
  {
   "cell_type": "markdown",
   "metadata": {},
   "source": [
    "### 4. \n",
    "\n",
    "Perform the following operations and print the results of each:\n",
    "- Raise 5 to the power of 3 using the exponentiation operator.\n",
    "- Divide 10 by 3 using floor division to get the quotient as an integer.\n",
    "- Calculate the remainder when 10 is divided by 3 using the modulo operator."
   ]
  },
  {
   "cell_type": "code",
   "execution_count": 12,
   "metadata": {},
   "outputs": [
    {
     "name": "stdout",
     "output_type": "stream",
     "text": [
      "125\n",
      "3\n",
      "1\n"
     ]
    }
   ],
   "source": [
    "print(5 ** 3)\n",
    "print(10 // 3)\n",
    "print(10 % 3)\n"
   ]
  },
  {
   "cell_type": "markdown",
   "metadata": {},
   "source": [
    "### 5.\n",
    "\n",
    "You are given the following code:\n",
    "\n",
    "```python\n",
    "a = [1, 2, 3, 5, 7, 11, 13]\n",
    "b = 3 * 4\n",
    "```\n",
    "\n",
    "Which of the following is the best practice in naming the variables `a` and `b`? Why?\n",
    "\n",
    "1. `a = primes` and `b = result`\n",
    "2. `a = numbers` and `b = x`\n",
    "3. `a = prime` and `b = results`\n"
   ]
  },
  {
   "cell_type": "markdown",
   "metadata": {},
   "source": [
    "option 1"
   ]
  },
  {
   "cell_type": "markdown",
   "metadata": {},
   "source": [
    "## Boolean Operators"
   ]
  },
  {
   "cell_type": "markdown",
   "metadata": {},
   "source": [
    "### 1.\n",
    "\n",
    "What is the result of the following boolean expression? Predict and then check your result.\n",
    "\n",
    "```python\n",
    "x = True\n",
    "y = False\n",
    "z = True\n",
    "\n",
    "result = x and y or z\n",
    "print(result)"
   ]
  },
  {
   "cell_type": "markdown",
   "metadata": {},
   "source": [
    "Prediction: True"
   ]
  },
  {
   "cell_type": "code",
   "execution_count": 13,
   "metadata": {},
   "outputs": [
    {
     "name": "stdout",
     "output_type": "stream",
     "text": [
      "True\n"
     ]
    }
   ],
   "source": [
    "x = True\n",
    "y = False\n",
    "z = True\n",
    "\n",
    "result = x and y or z\n",
    "print(result)"
   ]
  },
  {
   "cell_type": "markdown",
   "metadata": {},
   "source": [
    "### 2.\n",
    "\n",
    "What do you think the following code will print? Why?\n",
    "\n",
    "```python\n",
    "a = 100.54612\n",
    "b = 100.54612\n",
    "c = a\n",
    "\n",
    "print(a == b)\n",
    "print(a is b)\n",
    "print(a is c)\n",
    "```"
   ]
  },
  {
   "cell_type": "markdown",
   "metadata": {},
   "source": [
    "true,\n",
    "false,\n",
    "true"
   ]
  },
  {
   "cell_type": "markdown",
   "metadata": {},
   "source": [
    "### 3.\n",
    "\n",
    "Evaluate and print the result of the following code:\n",
    "\n",
    "```python\n",
    "x = 5\n",
    "y = 10\n",
    "\n",
    "result = x < y and (x > 2 or y < 20)\n",
    "print(result)"
   ]
  },
  {
   "cell_type": "markdown",
   "metadata": {},
   "source": [
    "true"
   ]
  },
  {
   "cell_type": "code",
   "execution_count": 15,
   "metadata": {},
   "outputs": [
    {
     "name": "stdout",
     "output_type": "stream",
     "text": [
      "True\n"
     ]
    }
   ],
   "source": [
    "x = 5\n",
    "y = 10\n",
    "\n",
    "result = x < y and (x > 2 or y < 20)\n",
    "print(result)"
   ]
  },
  {
   "cell_type": "markdown",
   "metadata": {},
   "source": [
    "## The Terminal\n",
    "\n",
    "Note that running terminal commands in a Jupyter Notebook does not work properly on Windows so you will have to open Powershell separate and report the commands."
   ]
  },
  {
   "cell_type": "markdown",
   "metadata": {},
   "source": [
    "### 1.\n",
    "\n",
    "Using the terminal, find out the following:\n",
    "1. What is your current working directory?\n",
    "2. What user are you logged in as?\n"
   ]
  },
  {
   "cell_type": "markdown",
   "metadata": {},
   "source": [
    "### 2.\n",
    "\n",
    "Use the terminal to list all files and directories in your current working directory."
   ]
  },
  {
   "cell_type": "markdown",
   "metadata": {},
   "source": [
    "### 3.\n",
    "\n",
    "Create a new text file called `hello.py` with a single line, `print(\"Hello!\")`, in it. Run it from the Powershell terminal (not in an interactive window).\n"
   ]
  },
  {
   "cell_type": "markdown",
   "metadata": {},
   "source": [
    "### 4.\n",
    "\n",
    "Succesfully run the following code, doing whatever you have to in order to import the library **sympy**.\n",
    "\n",
    "```python\n",
    "from sympy import Integral\n",
    "from sympy import symbols\n",
    "from sympy import log as s_log\n",
    "\n",
    "μ = symbols(\"μ\")\n",
    "expr = Integral(s_log(μ)**2, μ)\n",
    "expr\n",
    "```\n",
    "\n",
    "In another cell, run\n",
    "\n",
    "```python\n",
    "expr.doit()\n",
    "```\n",
    "\n",
    "What's going on here?"
   ]
  }
 ],
 "metadata": {
  "kernelspec": {
   "display_name": "techtrain",
   "language": "python",
   "name": "python3"
  },
  "language_info": {
   "codemirror_mode": {
    "name": "ipython",
    "version": 3
   },
   "file_extension": ".py",
   "mimetype": "text/x-python",
   "name": "python",
   "nbconvert_exporter": "python",
   "pygments_lexer": "ipython3",
   "version": "3.12.4"
  }
 },
 "nbformat": 4,
 "nbformat_minor": 2
}
